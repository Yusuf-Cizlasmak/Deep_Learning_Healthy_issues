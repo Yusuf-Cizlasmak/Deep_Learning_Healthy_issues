{
  "cells": [
    {
      "cell_type": "markdown",
      "metadata": {
        "id": "M44MVO2sOQjZ"
      },
      "source": [
        "# Optik Koherens Tomografiden hastalık teşhisi (Sınıflandırma)"
      ]
    },
    {
      "cell_type": "markdown",
      "metadata": {
        "id": "-uz1fSY3OQje"
      },
      "source": [
        "<img src=https://raw.githubusercontent.com/brktzlk/OCT_Hastalik_Teshisi/main/Resimler/oct.jpg width=\"750\" align=\"left\">"
      ]
    },
    {
      "cell_type": "markdown",
      "metadata": {
        "id": "bmFN47P_OQjf"
      },
      "source": [
        "        21. yüzyılda, optik koherens tomografinin (OCT) gelişimi, maküler hastalıkları teşhis etme ve tedavilerin gerekliliğini ve etkinliğini değerlendirme becerisinde çığır açmıştır. Dünya çapında her yıl gerçekleştirilen yaklaşık 30 milyon OCT taramasıyla en sık uygulanan tıbbi görüntüleme prosedürlerinden biri haline geldi. OCT görüntüleme artık dünya çapında önlenebilir körlüğün önde gelen nedenlerinden yaşa bağlı makula dejenerasyonu (AMD) ve diyabetik maküla ödeminin tanı ve tedavisine rehberlik eden bir standart haline gelmiştir."
      ]
    },
    {
      "cell_type": "markdown",
      "metadata": {
        "id": "QHAqSYPLOQjg"
      },
      "source": [
        "-------------------------------------------------------------------------------------------------------------------------------------"
      ]
    },
    {
      "cell_type": "markdown",
      "metadata": {
        "id": "Ik-Wi9KeOQjh"
      },
      "source": [
        "# Veri seti"
      ]
    },
    {
      "cell_type": "markdown",
      "metadata": {
        "id": "32d2qy6VOQjh"
      },
      "source": [
        "   OCT verilerini [buradan](https://data.mendeley.com/datasets/rscbjbr9sj/2) indirebilirsiniz."
      ]
    },
    {
      "cell_type": "markdown",
      "metadata": {
        "id": "j8dhef65OQji"
      },
      "source": [
        "-------------------------------------------------------------------------------------------------------------------------------------"
      ]
    },
    {
      "cell_type": "markdown",
      "metadata": {
        "id": "6rvGP1IXOQjj"
      },
      "source": [
        "## Standart kütüphaneleri içe aktarma"
      ]
    },
    {
      "cell_type": "code",
      "execution_count": 69,
      "metadata": {},
      "outputs": [],
      "source": [
        "# !pip install opencv-python\n",
        "# !pip install tensorflow"
      ]
    },
    {
      "cell_type": "code",
      "execution_count": 70,
      "metadata": {
        "colab": {
          "base_uri": "https://localhost:8080/"
        },
        "id": "elTcBdVAOQjk",
        "outputId": "4202612c-95e1-4a66-9aea-3488f0fa5fdb"
      },
      "outputs": [],
      "source": [
        "\n",
        "\n",
        "import os #operation system\n",
        "import numpy as np\n",
        "import pandas as pd\n",
        "import random\n",
        "import cv2\n",
        "import matplotlib.pyplot as plt\n",
        "\n",
        "\n",
        "seed=2020\n",
        "np.random.seed(seed)\n",
        "%matplotlib inline\n"
      ]
    },
    {
      "cell_type": "markdown",
      "metadata": {
        "id": "4_1d-v00OQjn"
      },
      "source": [
        "## Dosyanın bulunduğu konum"
      ]
    },
    {
      "cell_type": "code",
      "execution_count": 71,
      "metadata": {
        "colab": {
          "base_uri": "https://localhost:8080/"
        },
        "id": "VMD1dlclOQjo",
        "outputId": "ec433cb3-db78-46f3-dbb8-8b277bcb7255"
      },
      "outputs": [
        {
          "data": {
            "text/plain": [
              "('C:/Users/yusuf/Desktop/GOALS/DEEP_LEARNING/AI_Health_issues/OCT2017/test/',\n",
              " 'C:/Users/yusuf/Desktop/GOALS/DEEP_LEARNING/AI_Health_issues/OCT2017/',\n",
              " 'C:/Users/yusuf/Desktop/GOALS/DEEP_LEARNING/AI_Health_issues/OCT2017/train/')"
            ]
          },
          "execution_count": 71,
          "metadata": {},
          "output_type": "execute_result"
        }
      ],
      "source": [
        "path=\"C:/Users/yusuf/Desktop/GOALS/DEEP_LEARNING/AI_Health_issues/OCT2017/\"\n",
        "train=path+ \"train/\"\n",
        "test=path + \"test/\"\n",
        "\n",
        "\n",
        "test,path,train\n"
      ]
    },
    {
      "cell_type": "markdown",
      "metadata": {
        "id": "0FRruZTqOQjp"
      },
      "source": [
        "## Veri büyütme  (Data augmentation) "
      ]
    },
    {
      "cell_type": "markdown",
      "metadata": {
        "id": "y10IMztzOQjq"
      },
      "source": [
        "[ImageDataGenerator()](https://keras.io/api/preprocessing/image/#imagedatagenerator-class) "
      ]
    },
    {
      "cell_type": "code",
      "execution_count": 72,
      "metadata": {
        "id": "u8geHlXJOQjq"
      },
      "outputs": [],
      "source": [
        "\n",
        "\n",
        "#verileri çoğaltma işlemi\n",
        "\n",
        "from keras.preprocessing.image import ImageDataGenerator\n",
        "\n",
        "#Yapacağımız data augmentation'da horizontal flip,zoom range olacaktır. vertical_flip yapmak hastalığın şeklini bozacağından bunu içine katmıyoruz\n",
        "                                   \n",
        "train_datagen=ImageDataGenerator(horizontal_flip=True,zoom_range=0.29)\n",
        "\n",
        "\n",
        "test_datagen = ImageDataGenerator()\n"
      ]
    },
    {
      "cell_type": "markdown",
      "metadata": {
        "id": "qCTVvQxWOQjr"
      },
      "source": [
        "## Görüntüleri aktarma"
      ]
    },
    {
      "cell_type": "markdown",
      "metadata": {
        "id": "hnvwyrd8OQjr"
      },
      "source": [
        "[flow_from_directory()](https://keras.io/api/preprocessing/image/#flowfromdirectory-method) "
      ]
    },
    {
      "cell_type": "code",
      "execution_count": 73,
      "metadata": {
        "colab": {
          "base_uri": "https://localhost:8080/"
        },
        "id": "rB95zPKROQjs",
        "outputId": "db384dec-8fa2-4149-8e74-017162ec5c64"
      },
      "outputs": [
        {
          "name": "stdout",
          "output_type": "stream",
          "text": [
            "Found 53738 images belonging to 4 classes.\n",
            "Found 1000 images belonging to 4 classes.\n"
          ]
        }
      ],
      "source": [
        "#flow_from_directory: Belirten konumdaki(directory) dosyaları alır ve veri yığınları(batch) oluşturur. Belirtilen konumun altında en az bir dizin olmasını bekler.\n",
        "\n",
        "\n",
        "train_gen=train_datagen.flow_from_directory(directory=train,\n",
        "                                            target_size=(160,160),#150 ve 200 arasındaki bir değer hem modelimiz hem de bilgisayarımız için yeterli gelecektir.                            ) #150 ve 200 arasındaki bir değer hem modelimiz hem de bilgisayarımız için yeterli gelecektir.\n",
        "                                            batch_size=8,#2'nin katları girilmesi önerilir ancak fazla girilmesi model için iyiken , bilgisayarı yorar.\n",
        "                                            shuffle=True)\n",
        "\n",
        "\n",
        "#Aynısını test içinde yapalım.\n",
        "test_gen=test_datagen.flow_from_directory(directory=test,\n",
        "                                            target_size=(160,160),#150 ve 200 arasındaki bir değer hem modelimiz hem de bilgisayarımız için yeterli gelecektir.                            ) #150 ve 200 arasındaki bir değer hem modelimiz hem de bilgisayarımız için yeterli gelecektir.\n",
        "                                            batch_size=8,#2'nin katları girilmesi önerilir ancak fazla girilmesi model için iyiken , bilgisayarı yorar.\n",
        "                                            shuffle=True)                                                                   \n",
        "                            \n",
        "                         \n",
        "                            \n",
        "                     \n",
        "\n",
        "                    \n",
        "                            \n",
        "                            \n",
        "                            \n",
        "                            \n",
        "                            "
      ]
    },
    {
      "cell_type": "code",
      "execution_count": 74,
      "metadata": {
        "colab": {
          "base_uri": "https://localhost:8080/"
        },
        "id": "ReXP6nO5utcu",
        "outputId": "42d1ac35-bf58-4c84-cc8a-16c3faca641a"
      },
      "outputs": [
        {
          "data": {
            "text/plain": [
              "(160, 160, 3)"
            ]
          },
          "execution_count": 74,
          "metadata": {},
          "output_type": "execute_result"
        }
      ],
      "source": [
        "train_gen[0][0].shape #batch_size boyutunu gosterdık\n",
        "\n",
        "train_gen[0][0][6].shape #batch'in içindeki herhangi bir resmi gösterdik.\n"
      ]
    },
    {
      "cell_type": "code",
      "execution_count": 75,
      "metadata": {
        "colab": {
          "base_uri": "https://localhost:8080/",
          "height": 286
        },
        "id": "a6EQZaXh2KW8",
        "outputId": "820855bf-23f4-4000-9108-e1c87ad86156"
      },
      "outputs": [
        {
          "data": {
            "text/plain": [
              "<matplotlib.image.AxesImage at 0x1f22e64a0d0>"
            ]
          },
          "execution_count": 75,
          "metadata": {},
          "output_type": "execute_result"
        },
        {
          "data": {
            "image/png": "[encoded data removed]",
            "text/plain": [
              "<Figure size 640x480 with 1 Axes>"
            ]
          },
          "metadata": {},
          "output_type": "display_data"
        }
      ],
      "source": [
        "#Veri setinden örnekleri gösterme\n",
        "plt.imshow(train_gen[0][0][7]/255)"
      ]
    },
    {
      "cell_type": "markdown",
      "metadata": {
        "id": "WHaKIMJTOQjs"
      },
      "source": [
        "### Callbacks \n",
        "1. Öğrenme katsayısı azaltma [ReduceLROnPlateau()](https://keras.io/api/callbacks/reduce_lr_on_plateau/) \n",
        "2. Kontrol noktası - Her epochta ağırlıkları kaydetme [ModelCheckpoint()](https://keras.io/api/callbacks/model_checkpoint/)\n"
      ]
    },
    {
      "cell_type": "code",
      "execution_count": 76,
      "metadata": {
        "id": "o2LLprMFOQjt"
      },
      "outputs": [],
      "source": [
        "#şimdi modelimizi eğitirken learning_rate nasıl otomatik olaarak nasıl artırıp azaltacağız ona bakalım.\n",
        "from keras.callbacks import ReduceLROnPlateau,ModelCheckpoint\n",
        "\n",
        "lr=ReduceLROnPlateau(monitor='val_loss',patience=3,verbose=1,factor=0.25,min_lr=0.000001)\n",
        "#monitor(izlenen yer), neyi baz alacağı\n",
        "#patience gösterilen sabır\n",
        "#verbose ve mode önemli değil\n",
        "\n",
        "#factor,hep aynı sonucu veren learning rate ile çarpılma sonucu\n",
        "#min_lr= gidilecek en küçük öğrenme oranını temsil eder.\n",
        "\n",
        "cp=ModelCheckpoint(filepath=\"TransferLearningEfficent.h5\",save_weights_only=True)#burada sadece modelin ağırlıklarını kaydediyoruz.\n"
      ]
    },
    {
      "cell_type": "markdown",
      "metadata": {
        "id": "L2Kv8r0rOQjt"
      },
      "source": [
        "## Model Oluşturma - Transfer Learning ( EfficientNet B5 )"
      ]
    },
    {
      "cell_type": "markdown",
      "metadata": {
        "id": "_2yXcc_kOQjt"
      },
      "source": [
        "    Araştırma yapılırken(2018) transfer learning modeli olarak InceptionV3 kullanılmış ve %96.6 accuracy skoru elde edilmiş. Fakat günümüzde(2020) InceptionV3'den daha başarılı modeller mevcut. Bu nedenle kursta EfficientNet modelini kullanıyoruz. Bu model accuracy skoru %99.3'ye kadar çıkartabiliyor "
      ]
    },
    {
      "cell_type": "code",
      "execution_count": 77,
      "metadata": {
        "colab": {
          "base_uri": "https://localhost:8080/"
        },
        "id": "WukrRa25OQju",
        "outputId": "ca8c1a17-5a1b-46cf-9409-6c6783cb50ce"
      },
      "outputs": [],
      "source": [
        "#Model oluşturma\n",
        "\n",
        "from efficientnet.keras import EfficientNetB5\n",
        "\n",
        "#Son yoğun katmanları isteyip istemediğimizi seçmememizi sağlar.\n",
        "#İstediğimizde True , istemediğimizde False işaretleriz\n",
        "\n",
        "\n",
        "#Şimdi kendi çıkış katmanlarımızı eklememiz gerekiyor.\n",
        "from keras.models import Sequential\n",
        "from keras import layers\n",
        "\n",
        "\n",
        "model=Sequential () \n",
        "model.add(EfficientNetB5(weights=\"imagenet\",include_top=False,input_shape=(160,160,3))) #biz transfer learning'in oluşturduğu feature map() yüksek olmayan  ) kullanıp daha başarılı sonuçlar elde etmek istiyoruz.\n",
        "#ağırlıklar olarak imagenet kullanıp, input_shape ise resimlerin boyutlarını giriyorum\n",
        "\n",
        "#Son katmanları çıkardık, şimdi son katmanları kendimizce ekleme zamanı:\n",
        "NUM_OF_CLASS=4#sınıflandırma sayım 4 olduğu için 4 olarak belirledim.\n",
        "\n",
        "model.add(layers.GlobalAveragePooling2D())\n",
        "model.add(layers.Dropout(0.4))\n",
        "model.add(layers.Dense(NUM_OF_CLASS,activation=\"softmax\"))\n",
        "\n",
        "\n",
        "\n",
        "\n",
        "#Modeli derleme işlemi\n",
        "model.compile(\n",
        "    loss=\"categorical_crossentropy\",\n",
        "    optimizer='adam',\n",
        "    metrics=['accuracy']\n",
        ")\n",
        "\n",
        "\n"
      ]
    },
    {
      "cell_type": "markdown",
      "metadata": {
        "id": "-K_4cojJOQju"
      },
      "source": [
        "#### Eğitim"
      ]
    },
    {
      "cell_type": "code",
      "execution_count": 78,
      "metadata": {
        "colab": {
          "base_uri": "https://localhost:8080/"
        },
        "id": "eL-6irbOOQju",
        "outputId": "c57209bd-db5f-4f9e-81a8-b026d70504c9",
        "scrolled": false
      },
      "outputs": [
        {
          "name": "stdout",
          "output_type": "stream",
          "text": [
            "6718/6718 [==============================] - 31043s 5s/step - loss: 0.3724 - accuracy: 0.8816 - val_loss: 0.0293 - val_accuracy: 0.9950 - lr: 0.0010\n"
          ]
        }
      ],
      "source": [
        "history=model.fit(train_gen,\n",
        "                  validation_data=test_gen,\n",
        "                  batch_size=8,\n",
        "                  epochs=1,  #temsili olarak 2 epoch yapılmıstır.\n",
        "                  callbacks=[lr,cp])"
      ]
    },
    {
      "cell_type": "markdown",
      "metadata": {
        "id": "UWMCa_NfOQjw"
      },
      "source": [
        "# Accuracy-Loss grafiği"
      ]
    },
    {
      "cell_type": "markdown",
      "metadata": {
        "id": "IGikpvraOQjw"
      },
      "source": [
        "#### Accuracy"
      ]
    },
    {
      "cell_type": "code",
      "execution_count": null,
      "metadata": {
        "id": "ECh3OGmoOQjx"
      },
      "outputs": [],
      "source": []
    },
    {
      "cell_type": "code",
      "execution_count": null,
      "metadata": {
        "id": "lRMlWHSoOQjx"
      },
      "outputs": [],
      "source": [
        "\n",
        "\n",
        "\n",
        "\n",
        "\n"
      ]
    },
    {
      "cell_type": "markdown",
      "metadata": {
        "id": "Uk6iIbHLOQjx"
      },
      "source": [
        "#### Loss"
      ]
    },
    {
      "cell_type": "code",
      "execution_count": null,
      "metadata": {
        "id": "FjiNpvR-OQjy"
      },
      "outputs": [],
      "source": [
        "\n",
        "\n",
        "\n",
        "\n",
        "\n",
        "\n"
      ]
    },
    {
      "cell_type": "markdown",
      "metadata": {
        "id": "b1GWFn-FOQjy"
      },
      "source": [
        "#### Verileri aktarma "
      ]
    },
    {
      "cell_type": "code",
      "execution_count": 79,
      "metadata": {
        "id": "SdWqFueJOQjy"
      },
      "outputs": [
        {
          "data": {
            "text/plain": [
              "['CNV', 'DME', 'DRUSEN', 'NORMAL']"
            ]
          },
          "execution_count": 79,
          "metadata": {},
          "output_type": "execute_result"
        }
      ],
      "source": [
        "#simdi confusion matrix olusturabilmem icin dosyalardan goruntuleri ve label'larını almam gerekiyor.\n",
        "test\n",
        "\n",
        "dosya=os.listdir(test)\n",
        "dosya"
      ]
    },
    {
      "cell_type": "code",
      "execution_count": 80,
      "metadata": {
        "id": "NF21v08u6lx6"
      },
      "outputs": [
        {
          "name": "stdout",
          "output_type": "stream",
          "text": [
            "CNV\n",
            "0\n",
            "0\n",
            "0\n",
            "0\n",
            "0\n",
            "0\n",
            "0\n",
            "0\n",
            "0\n",
            "0\n",
            "0\n",
            "0\n",
            "0\n",
            "0\n",
            "0\n",
            "0\n",
            "0\n",
            "0\n",
            "0\n",
            "0\n",
            "0\n",
            "0\n",
            "0\n",
            "0\n",
            "0\n",
            "0\n",
            "0\n",
            "0\n",
            "0\n",
            "0\n",
            "0\n",
            "0\n",
            "0\n",
            "0\n",
            "0\n",
            "0\n",
            "0\n",
            "0\n",
            "0\n",
            "0\n",
            "0\n",
            "0\n",
            "0\n",
            "0\n",
            "0\n",
            "0\n",
            "0\n",
            "0\n",
            "0\n",
            "0\n",
            "0\n",
            "0\n",
            "0\n",
            "0\n",
            "0\n",
            "0\n",
            "0\n",
            "0\n",
            "0\n",
            "0\n",
            "0\n",
            "0\n",
            "0\n",
            "0\n",
            "0\n",
            "0\n",
            "0\n",
            "0\n",
            "0\n",
            "0\n",
            "0\n",
            "0\n",
            "0\n",
            "0\n",
            "0\n",
            "0\n",
            "0\n",
            "0\n",
            "0\n",
            "0\n",
            "0\n",
            "0\n",
            "0\n",
            "0\n",
            "0\n",
            "0\n",
            "0\n",
            "0\n",
            "0\n",
            "0\n",
            "0\n",
            "0\n",
            "0\n",
            "0\n",
            "0\n",
            "0\n",
            "0\n",
            "0\n",
            "0\n",
            "0\n",
            "0\n",
            "0\n",
            "0\n",
            "0\n",
            "0\n",
            "0\n",
            "0\n",
            "0\n",
            "0\n",
            "0\n",
            "0\n",
            "0\n",
            "0\n",
            "0\n",
            "0\n",
            "0\n",
            "0\n",
            "0\n",
            "0\n",
            "0\n",
            "0\n",
            "0\n",
            "0\n",
            "0\n",
            "0\n",
            "0\n",
            "0\n",
            "0\n",
            "0\n",
            "0\n",
            "0\n",
            "0\n",
            "0\n",
            "0\n",
            "0\n",
            "0\n",
            "0\n",
            "0\n",
            "0\n",
            "0\n",
            "0\n",
            "0\n",
            "0\n",
            "0\n",
            "0\n",
            "0\n",
            "0\n",
            "0\n",
            "0\n",
            "0\n",
            "0\n",
            "0\n",
            "0\n",
            "0\n",
            "0\n",
            "0\n",
            "0\n",
            "0\n",
            "0\n",
            "0\n",
            "0\n",
            "0\n",
            "0\n",
            "0\n",
            "0\n",
            "0\n",
            "0\n",
            "0\n",
            "0\n",
            "0\n",
            "0\n",
            "0\n",
            "0\n",
            "0\n",
            "0\n",
            "0\n",
            "0\n",
            "0\n",
            "0\n",
            "0\n",
            "0\n",
            "0\n",
            "0\n",
            "0\n",
            "0\n",
            "0\n",
            "0\n",
            "0\n",
            "0\n",
            "0\n",
            "0\n",
            "0\n",
            "0\n",
            "0\n",
            "0\n",
            "0\n",
            "0\n",
            "0\n",
            "0\n",
            "0\n",
            "0\n",
            "0\n",
            "0\n",
            "0\n",
            "0\n",
            "0\n",
            "0\n",
            "0\n",
            "0\n",
            "0\n",
            "0\n",
            "0\n",
            "0\n",
            "0\n",
            "0\n",
            "0\n",
            "0\n",
            "0\n",
            "0\n",
            "0\n",
            "0\n",
            "0\n",
            "0\n",
            "0\n",
            "0\n",
            "0\n",
            "0\n",
            "0\n",
            "0\n",
            "0\n",
            "0\n",
            "0\n",
            "0\n",
            "0\n",
            "0\n",
            "0\n",
            "0\n",
            "0\n",
            "0\n",
            "0\n",
            "0\n",
            "0\n",
            "0\n",
            "0\n",
            "0\n",
            "0\n",
            "0\n",
            "0\n",
            "0\n",
            "0\n",
            "DME\n",
            "1\n",
            "1\n",
            "1\n",
            "1\n",
            "1\n",
            "1\n",
            "1\n",
            "1\n",
            "1\n",
            "1\n",
            "1\n",
            "1\n",
            "1\n",
            "1\n",
            "1\n",
            "1\n",
            "1\n",
            "1\n",
            "1\n",
            "1\n",
            "1\n",
            "1\n",
            "1\n",
            "1\n",
            "1\n",
            "1\n",
            "1\n",
            "1\n",
            "1\n",
            "1\n",
            "1\n",
            "1\n",
            "1\n",
            "1\n",
            "1\n",
            "1\n",
            "1\n",
            "1\n",
            "1\n",
            "1\n",
            "1\n",
            "1\n",
            "1\n",
            "1\n",
            "1\n",
            "1\n",
            "1\n",
            "1\n",
            "1\n",
            "1\n",
            "1\n",
            "1\n",
            "1\n",
            "1\n",
            "1\n",
            "1\n",
            "1\n",
            "1\n",
            "1\n",
            "1\n",
            "1\n",
            "1\n",
            "1\n",
            "1\n",
            "1\n",
            "1\n",
            "1\n",
            "1\n",
            "1\n",
            "1\n",
            "1\n",
            "1\n",
            "1\n",
            "1\n",
            "1\n",
            "1\n",
            "1\n",
            "1\n",
            "1\n",
            "1\n",
            "1\n",
            "1\n",
            "1\n",
            "1\n",
            "1\n",
            "1\n",
            "1\n",
            "1\n",
            "1\n",
            "1\n",
            "1\n",
            "1\n",
            "1\n",
            "1\n",
            "1\n",
            "1\n",
            "1\n",
            "1\n",
            "1\n",
            "1\n",
            "1\n",
            "1\n",
            "1\n",
            "1\n",
            "1\n",
            "1\n",
            "1\n",
            "1\n",
            "1\n",
            "1\n",
            "1\n",
            "1\n",
            "1\n",
            "1\n",
            "1\n",
            "1\n",
            "1\n",
            "1\n",
            "1\n",
            "1\n",
            "1\n",
            "1\n",
            "1\n",
            "1\n",
            "1\n",
            "1\n",
            "1\n",
            "1\n",
            "1\n",
            "1\n",
            "1\n",
            "1\n",
            "1\n",
            "1\n",
            "1\n",
            "1\n",
            "1\n",
            "1\n",
            "1\n",
            "1\n",
            "1\n",
            "1\n",
            "1\n",
            "1\n",
            "1\n",
            "1\n",
            "1\n",
            "1\n",
            "1\n",
            "1\n",
            "1\n",
            "1\n",
            "1\n",
            "1\n",
            "1\n",
            "1\n",
            "1\n",
            "1\n",
            "1\n",
            "1\n",
            "1\n",
            "1\n",
            "1\n",
            "1\n",
            "1\n",
            "1\n",
            "1\n",
            "1\n",
            "1\n",
            "1\n",
            "1\n",
            "1\n",
            "1\n",
            "1\n",
            "1\n",
            "1\n",
            "1\n",
            "1\n",
            "1\n",
            "1\n",
            "1\n",
            "1\n",
            "1\n",
            "1\n",
            "1\n",
            "1\n",
            "1\n",
            "1\n",
            "1\n",
            "1\n",
            "1\n",
            "1\n",
            "1\n",
            "1\n",
            "1\n",
            "1\n",
            "1\n",
            "1\n",
            "1\n",
            "1\n",
            "1\n",
            "1\n",
            "1\n",
            "1\n",
            "1\n",
            "1\n",
            "1\n",
            "1\n",
            "1\n",
            "1\n",
            "1\n",
            "1\n",
            "1\n",
            "1\n",
            "1\n",
            "1\n",
            "1\n",
            "1\n",
            "1\n",
            "1\n",
            "1\n",
            "1\n",
            "1\n",
            "1\n",
            "1\n",
            "1\n",
            "1\n",
            "1\n",
            "1\n",
            "1\n",
            "1\n",
            "1\n",
            "1\n",
            "1\n",
            "1\n",
            "1\n",
            "1\n",
            "1\n",
            "1\n",
            "1\n",
            "1\n",
            "1\n",
            "1\n",
            "1\n",
            "1\n",
            "1\n",
            "1\n",
            "1\n",
            "1\n",
            "1\n",
            "DRUSEN\n",
            "2\n",
            "2\n",
            "2\n",
            "2\n",
            "2\n",
            "2\n",
            "2\n",
            "2\n",
            "2\n",
            "2\n",
            "2\n",
            "2\n",
            "2\n",
            "2\n",
            "2\n",
            "2\n",
            "2\n",
            "2\n",
            "2\n",
            "2\n",
            "2\n",
            "2\n",
            "2\n",
            "2\n",
            "2\n",
            "2\n",
            "2\n",
            "2\n",
            "2\n",
            "2\n",
            "2\n",
            "2\n",
            "2\n",
            "2\n",
            "2\n",
            "2\n",
            "2\n",
            "2\n",
            "2\n",
            "2\n",
            "2\n",
            "2\n",
            "2\n",
            "2\n",
            "2\n",
            "2\n",
            "2\n",
            "2\n",
            "2\n",
            "2\n",
            "2\n",
            "2\n",
            "2\n",
            "2\n",
            "2\n",
            "2\n",
            "2\n",
            "2\n",
            "2\n",
            "2\n",
            "2\n",
            "2\n",
            "2\n",
            "2\n",
            "2\n",
            "2\n",
            "2\n",
            "2\n",
            "2\n",
            "2\n",
            "2\n",
            "2\n",
            "2\n",
            "2\n",
            "2\n",
            "2\n",
            "2\n",
            "2\n",
            "2\n",
            "2\n",
            "2\n",
            "2\n",
            "2\n",
            "2\n",
            "2\n",
            "2\n",
            "2\n",
            "2\n",
            "2\n",
            "2\n",
            "2\n",
            "2\n",
            "2\n",
            "2\n",
            "2\n",
            "2\n",
            "2\n",
            "2\n",
            "2\n",
            "2\n",
            "2\n",
            "2\n",
            "2\n",
            "2\n",
            "2\n",
            "2\n",
            "2\n",
            "2\n",
            "2\n",
            "2\n",
            "2\n",
            "2\n",
            "2\n",
            "2\n",
            "2\n",
            "2\n",
            "2\n",
            "2\n",
            "2\n",
            "2\n",
            "2\n",
            "2\n",
            "2\n",
            "2\n",
            "2\n",
            "2\n",
            "2\n",
            "2\n",
            "2\n",
            "2\n",
            "2\n",
            "2\n",
            "2\n",
            "2\n",
            "2\n",
            "2\n",
            "2\n",
            "2\n",
            "2\n",
            "2\n",
            "2\n",
            "2\n",
            "2\n",
            "2\n",
            "2\n",
            "2\n",
            "2\n",
            "2\n",
            "2\n",
            "2\n",
            "2\n",
            "2\n",
            "2\n",
            "2\n",
            "2\n",
            "2\n",
            "2\n",
            "2\n",
            "2\n",
            "2\n",
            "2\n",
            "2\n",
            "2\n",
            "2\n",
            "2\n",
            "2\n",
            "2\n",
            "2\n",
            "2\n",
            "2\n",
            "2\n",
            "2\n",
            "2\n",
            "2\n",
            "2\n",
            "2\n",
            "2\n",
            "2\n",
            "2\n",
            "2\n",
            "2\n",
            "2\n",
            "2\n",
            "2\n",
            "2\n",
            "2\n",
            "2\n",
            "2\n",
            "2\n",
            "2\n",
            "2\n",
            "2\n",
            "2\n",
            "2\n",
            "2\n",
            "2\n",
            "2\n",
            "2\n",
            "2\n",
            "2\n",
            "2\n",
            "2\n",
            "2\n",
            "2\n",
            "2\n",
            "2\n",
            "2\n",
            "2\n",
            "2\n",
            "2\n",
            "2\n",
            "2\n",
            "2\n",
            "2\n",
            "2\n",
            "2\n",
            "2\n",
            "2\n",
            "2\n",
            "2\n",
            "2\n",
            "2\n",
            "2\n",
            "2\n",
            "2\n",
            "2\n",
            "2\n",
            "2\n",
            "2\n",
            "2\n",
            "2\n",
            "2\n",
            "2\n",
            "2\n",
            "2\n",
            "2\n",
            "2\n",
            "2\n",
            "2\n",
            "2\n",
            "2\n",
            "2\n",
            "2\n",
            "2\n",
            "2\n",
            "2\n",
            "2\n",
            "2\n",
            "2\n",
            "2\n",
            "NORMAL\n",
            "3\n",
            "3\n",
            "3\n",
            "3\n",
            "3\n",
            "3\n",
            "3\n",
            "3\n",
            "3\n",
            "3\n",
            "3\n",
            "3\n",
            "3\n",
            "3\n",
            "3\n",
            "3\n",
            "3\n",
            "3\n",
            "3\n",
            "3\n",
            "3\n",
            "3\n",
            "3\n",
            "3\n",
            "3\n",
            "3\n",
            "3\n",
            "3\n",
            "3\n",
            "3\n",
            "3\n",
            "3\n",
            "3\n",
            "3\n",
            "3\n",
            "3\n",
            "3\n",
            "3\n",
            "3\n",
            "3\n",
            "3\n",
            "3\n",
            "3\n",
            "3\n",
            "3\n",
            "3\n",
            "3\n",
            "3\n",
            "3\n",
            "3\n",
            "3\n",
            "3\n",
            "3\n",
            "3\n",
            "3\n",
            "3\n",
            "3\n",
            "3\n",
            "3\n",
            "3\n",
            "3\n",
            "3\n",
            "3\n",
            "3\n",
            "3\n",
            "3\n",
            "3\n",
            "3\n",
            "3\n",
            "3\n",
            "3\n",
            "3\n",
            "3\n",
            "3\n",
            "3\n",
            "3\n",
            "3\n",
            "3\n",
            "3\n",
            "3\n",
            "3\n",
            "3\n",
            "3\n",
            "3\n",
            "3\n",
            "3\n",
            "3\n",
            "3\n",
            "3\n",
            "3\n",
            "3\n",
            "3\n",
            "3\n",
            "3\n",
            "3\n",
            "3\n",
            "3\n",
            "3\n",
            "3\n",
            "3\n",
            "3\n",
            "3\n",
            "3\n",
            "3\n",
            "3\n",
            "3\n",
            "3\n",
            "3\n",
            "3\n",
            "3\n",
            "3\n",
            "3\n",
            "3\n",
            "3\n",
            "3\n",
            "3\n",
            "3\n",
            "3\n",
            "3\n",
            "3\n",
            "3\n",
            "3\n",
            "3\n",
            "3\n",
            "3\n",
            "3\n",
            "3\n",
            "3\n",
            "3\n",
            "3\n",
            "3\n",
            "3\n",
            "3\n",
            "3\n",
            "3\n",
            "3\n",
            "3\n",
            "3\n",
            "3\n",
            "3\n",
            "3\n",
            "3\n",
            "3\n",
            "3\n",
            "3\n",
            "3\n",
            "3\n",
            "3\n",
            "3\n",
            "3\n",
            "3\n",
            "3\n",
            "3\n",
            "3\n",
            "3\n",
            "3\n",
            "3\n",
            "3\n",
            "3\n",
            "3\n",
            "3\n",
            "3\n",
            "3\n",
            "3\n",
            "3\n",
            "3\n",
            "3\n",
            "3\n",
            "3\n",
            "3\n",
            "3\n",
            "3\n",
            "3\n",
            "3\n",
            "3\n",
            "3\n",
            "3\n",
            "3\n",
            "3\n",
            "3\n",
            "3\n",
            "3\n",
            "3\n",
            "3\n",
            "3\n",
            "3\n",
            "3\n",
            "3\n",
            "3\n",
            "3\n",
            "3\n",
            "3\n",
            "3\n",
            "3\n",
            "3\n",
            "3\n",
            "3\n",
            "3\n",
            "3\n",
            "3\n",
            "3\n",
            "3\n",
            "3\n",
            "3\n",
            "3\n",
            "3\n",
            "3\n",
            "3\n",
            "3\n",
            "3\n",
            "3\n",
            "3\n",
            "3\n",
            "3\n",
            "3\n",
            "3\n",
            "3\n",
            "3\n",
            "3\n",
            "3\n",
            "3\n",
            "3\n",
            "3\n",
            "3\n",
            "3\n",
            "3\n",
            "3\n",
            "3\n",
            "3\n",
            "3\n",
            "3\n",
            "3\n",
            "3\n",
            "3\n",
            "3\n",
            "3\n",
            "3\n",
            "3\n",
            "3\n",
            "3\n",
            "3\n",
            "3\n",
            "3\n",
            "3\n",
            "3\n",
            "3\n",
            "3\n",
            "3\n",
            "3\n",
            "3\n"
          ]
        }
      ],
      "source": [
        "import glob\n",
        "import cv2\n",
        "\n",
        "\n",
        "\n",
        "test_data = [] #yaptığımız for'daki goruntuleri buraya\n",
        "label_test= [] #if elif elde ettiğimiz label'ları ise buraya ekleyeceğiz.\n",
        "\n",
        "\n",
        "\n",
        "\n",
        "\n",
        "\n",
        "\n",
        "dosya=os.listdir(test)\n",
        "dosya #bunun icinde bulunan klasorlerin resimlerine ulasmam icin for kullanicam.\n",
        "for sinif in dosya:\n",
        "  print(sinif)#CNV,DME,NORMAL gosterecektir.\n",
        "  yol=test + '\\\\'+ sinif #tum test`in dosya yolunu gosterir.\n",
        "  for img in glob.glob(yol + '\\\\*'): #tum dosyalarin icindeki resimlere ulasmis olduk \n",
        "    # print(img)# şuan dosyalardaki tum fotoğraflara erişimiz var.                          \n",
        "    img=cv2.imread(img)\n",
        "    img=cv2.resize(img,(160,160))\n",
        "    #yapacağımız son işlem ise, göruntunun tipini değiştirmek olacaktır. Çunku\n",
        "    img.astype('float32')\n",
        "    #biz goruntulerimizi eğitime sokarken, 160x160lık goruntulerle ondalık tensorlerle işlemler yapmıştık.\n",
        "\n",
        "\n",
        "    #Sınıflandırma için\n",
        "    if sinif=='CNV':\n",
        "      label=0\n",
        "    elif sinif=='DME':\n",
        "      label=1\n",
        "    elif sinif=='DRUSEN':\n",
        "      label=2\n",
        "    elif sinif=='NORMAL':\n",
        "      label=3\n",
        "    #ekleme işlemleri\n",
        "    print(label)\n",
        "\n",
        "    test_data.append(img)\n",
        "    label_test.append(label)\n",
        "\n",
        "    #yapılan işlemleri check etme\n",
        "    # print(len(test_data)) #her döngude list içerisindeki resim sayısını dondurecektır."
      ]
    },
    {
      "cell_type": "markdown",
      "metadata": {
        "id": "44HemlBYMEMf"
      },
      "source": [
        "![resim_2022-11-23_121219588.png](data:image/png;base64,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)"
      ]
    },
    {
      "cell_type": "markdown",
      "metadata": {
        "id": "05vFQfxCRz1k"
      },
      "source": [
        "Son bir işlem olarak, list şeklindeki aldığımız resimleri array formatına dönusturmemiz gerekiyor."
      ]
    },
    {
      "cell_type": "code",
      "execution_count": 81,
      "metadata": {
        "id": "55ZoTE1sR5ul"
      },
      "outputs": [
        {
          "name": "stdout",
          "output_type": "stream",
          "text": [
            "(1000, 160, 160, 3)\n",
            "(1000,)\n"
          ]
        }
      ],
      "source": [
        "#bunu yapmamızın sebebi list formatında,shape alamamız ve hata matrisine bu şekilde veremeyecek olmamızdır.\n",
        "x_test=np.asarray(test_data)\n",
        "\n",
        "print(x_test.shape) #artık boyutunu öğrenebiliriz.\n",
        "\n",
        "#aynı işlemi labellar içinde yapıyoruz.\n",
        "\n",
        "y_test=np.asarray(test_label)\n",
        "\n",
        "print(y_test.shape)"
      ]
    },
    {
      "cell_type": "markdown",
      "metadata": {
        "id": "krv2aniRRl2v"
      },
      "source": [
        "##HATA MATRİSİ (Confusiom Matrix) "
      ]
    },
    {
      "cell_type": "code",
      "execution_count": 82,
      "metadata": {
        "id": "syy0A9GCOQjz"
      },
      "outputs": [
        {
          "name": "stdout",
          "output_type": "stream",
          "text": [
            "32/32 [==============================] - 135s 4s/step\n"
          ]
        }
      ],
      "source": [
        "#grafikleri oluştururken,genelde uc tane veriye ihtiyacımız oluyor.\n",
        "#bunlar sırasıyla :\n",
        "#y_true = Doktorlar tarafından belirlenmiş sonuçlar (ground truth)\n",
        "#y_pred= bir sınıflandırıcı tarafından,yapılan tahmini sonuçlar, elde etmek için model.predict_classes() ile edilir.\n",
        "#y_probas =bir sınıflandırıcı tarafından,yapılan sonuçlar, elde etmek için model.predict() ile edilir Ancak veriler OLASILIKSAL ŞEKİLDEDİR.\n",
        "\n",
        "y_true=y_test\n",
        "\n",
        "y_probas=model.predict(x_test)"
      ]
    },
    {
      "cell_type": "code",
      "execution_count": 83,
      "metadata": {},
      "outputs": [
        {
          "data": {
            "text/plain": [
              "array([0, 0, 0, 0, 0, 0, 0, 0, 0, 0, 0, 0, 0, 0, 0, 0, 0, 0, 0, 0, 0, 0,\n",
              "       0, 0, 0, 0, 0, 0, 0, 0, 0, 0, 0, 0, 0, 0, 0, 0, 0, 0, 0, 0, 0, 0,\n",
              "       0, 0, 0, 0, 0, 0, 0, 0, 0, 0, 0, 0, 0, 0, 0, 0, 0, 0, 0, 0, 0, 0,\n",
              "       0, 0, 0, 0, 0, 0, 0, 0, 0, 0, 1, 0, 0, 0, 0, 0, 0, 0, 0, 0, 0, 0,\n",
              "       0, 0, 0, 0, 0, 0, 0, 0, 0, 0, 0, 0, 0, 0, 0, 0, 0, 0, 0, 0, 0, 0,\n",
              "       0, 0, 0, 0, 0, 0, 0, 0, 0, 0, 0, 0, 0, 0, 0, 0, 0, 0, 0, 0, 0, 0,\n",
              "       0, 0, 0, 0, 0, 0, 0, 0, 0, 0, 0, 1, 0, 0, 0, 0, 0, 0, 0, 0, 0, 0,\n",
              "       0, 0, 0, 0, 0, 0, 0, 0, 0, 0, 0, 0, 0, 0, 0, 0, 0, 0, 0, 0, 0, 0,\n",
              "       0, 0, 0, 0, 0, 0, 0, 0, 0, 0, 0, 0, 0, 0, 0, 0, 0, 0, 0, 0, 0, 0,\n",
              "       0, 0, 0, 0, 0, 0, 0, 0, 0, 0, 0, 0, 0, 2, 0, 0, 0, 0, 0, 0, 0, 0,\n",
              "       0, 0, 0, 0, 0, 0, 0, 0, 0, 0, 0, 0, 0, 0, 0, 0, 0, 0, 0, 0, 0, 0,\n",
              "       0, 0, 0, 0, 0, 0, 0, 0, 1, 1, 1, 1, 1, 1, 1, 1, 1, 1, 1, 1, 1, 1,\n",
              "       1, 1, 1, 1, 1, 1, 1, 1, 1, 1, 1, 1, 1, 1, 1, 1, 1, 1, 1, 1, 1, 1,\n",
              "       1, 1, 1, 1, 1, 1, 1, 1, 1, 1, 1, 1, 1, 1, 1, 1, 1, 1, 1, 1, 1, 1,\n",
              "       1, 1, 1, 1, 1, 1, 1, 1, 1, 1, 1, 1, 1, 1, 1, 1, 1, 1, 1, 1, 1, 1,\n",
              "       1, 1, 1, 1, 1, 0, 1, 1, 1, 1, 1, 1, 1, 1, 1, 1, 1, 1, 1, 1, 1, 1,\n",
              "       1, 1, 1, 1, 1, 1, 1, 1, 1, 1, 1, 1, 1, 1, 1, 1, 1, 1, 1, 1, 1, 1,\n",
              "       1, 1, 1, 1, 1, 1, 1, 1, 1, 1, 1, 1, 1, 1, 1, 1, 1, 1, 1, 1, 1, 1,\n",
              "       1, 1, 1, 1, 1, 1, 1, 1, 1, 1, 1, 1, 1, 1, 1, 1, 1, 1, 1, 1, 1, 1,\n",
              "       1, 1, 1, 1, 1, 1, 1, 1, 1, 1, 1, 1, 1, 1, 1, 1, 1, 1, 1, 1, 1, 1,\n",
              "       1, 1, 1, 1, 1, 1, 1, 1, 1, 1, 1, 1, 1, 1, 1, 1, 1, 1, 1, 1, 1, 1,\n",
              "       1, 1, 1, 1, 1, 1, 1, 1, 1, 1, 1, 1, 1, 1, 1, 1, 1, 1, 1, 1, 1, 1,\n",
              "       1, 1, 1, 1, 1, 1, 1, 1, 1, 1, 1, 1, 1, 1, 1, 1, 2, 2, 2, 2, 2, 2,\n",
              "       2, 2, 2, 2, 2, 2, 2, 2, 2, 2, 2, 2, 2, 2, 2, 2, 2, 2, 2, 2, 2, 2,\n",
              "       2, 2, 2, 2, 2, 2, 2, 2, 2, 2, 2, 2, 2, 2, 2, 2, 2, 2, 2, 2, 2, 2,\n",
              "       2, 2, 2, 2, 2, 2, 2, 2, 2, 2, 2, 2, 2, 2, 2, 2, 2, 2, 2, 2, 2, 2,\n",
              "       2, 2, 2, 2, 2, 2, 2, 2, 2, 2, 2, 2, 2, 2, 2, 2, 2, 2, 2, 2, 2, 2,\n",
              "       2, 2, 2, 2, 2, 2, 2, 2, 2, 2, 2, 2, 2, 2, 2, 2, 2, 2, 2, 2, 2, 2,\n",
              "       2, 2, 2, 2, 2, 2, 2, 2, 2, 2, 2, 2, 2, 2, 2, 2, 2, 2, 2, 2, 2, 2,\n",
              "       2, 2, 2, 2, 2, 2, 2, 2, 2, 2, 2, 2, 2, 2, 2, 2, 2, 2, 2, 2, 2, 2,\n",
              "       2, 2, 2, 2, 2, 2, 2, 2, 2, 2, 2, 2, 2, 2, 2, 2, 2, 2, 2, 2, 2, 2,\n",
              "       2, 2, 2, 2, 2, 2, 2, 2, 2, 2, 2, 2, 2, 2, 2, 2, 2, 2, 2, 2, 2, 2,\n",
              "       2, 2, 2, 2, 2, 2, 2, 2, 2, 2, 2, 0, 2, 2, 2, 2, 2, 2, 2, 2, 2, 2,\n",
              "       2, 2, 2, 2, 2, 2, 2, 2, 2, 2, 2, 2, 2, 0, 2, 2, 2, 2, 2, 2, 2, 2,\n",
              "       2, 2, 3, 3, 3, 3, 3, 3, 3, 3, 3, 3, 3, 3, 3, 3, 3, 3, 3, 3, 3, 3,\n",
              "       3, 3, 3, 3, 3, 3, 3, 3, 3, 3, 3, 3, 3, 3, 3, 3, 3, 3, 3, 3, 3, 3,\n",
              "       3, 3, 3, 3, 3, 3, 3, 3, 3, 3, 3, 3, 3, 3, 3, 3, 3, 3, 3, 3, 3, 3,\n",
              "       3, 3, 3, 3, 3, 3, 3, 3, 3, 3, 3, 3, 3, 3, 3, 3, 3, 3, 3, 3, 3, 3,\n",
              "       3, 3, 3, 3, 3, 3, 3, 3, 3, 3, 3, 3, 3, 3, 3, 3, 3, 3, 3, 3, 3, 3,\n",
              "       3, 3, 3, 3, 3, 3, 3, 3, 3, 3, 3, 3, 3, 3, 3, 3, 3, 3, 3, 3, 3, 3,\n",
              "       3, 3, 3, 3, 3, 3, 3, 3, 3, 3, 3, 3, 3, 3, 3, 3, 3, 3, 3, 3, 3, 3,\n",
              "       3, 3, 3, 3, 3, 3, 3, 3, 3, 3, 3, 3, 3, 3, 3, 3, 3, 3, 3, 3, 3, 3,\n",
              "       3, 3, 3, 3, 3, 3, 3, 3, 3, 3, 3, 3, 3, 3, 3, 3, 3, 3, 3, 3, 3, 3,\n",
              "       3, 3, 3, 3, 3, 3, 3, 3, 3, 3, 3, 3, 3, 3, 3, 3, 3, 3, 3, 3, 3, 3,\n",
              "       3, 3, 3, 3, 3, 3, 3, 3, 3, 3, 3, 3, 3, 3, 3, 3, 3, 3, 3, 3, 3, 3,\n",
              "       3, 3, 3, 3, 3, 3, 3, 3, 3, 3], dtype=int64)"
            ]
          },
          "execution_count": 83,
          "metadata": {},
          "output_type": "execute_result"
        }
      ],
      "source": [
        "y_pred=np.argmax(y_probas>0.5,axis=-1) #axis -1\n",
        "y_pred"
      ]
    },
    {
      "cell_type": "code",
      "execution_count": 84,
      "metadata": {},
      "outputs": [
        {
          "data": {
            "text/plain": [
              "'\\nEğer bilimsel bir çalışma yapıyorsanız,Grafiklerin ne anlama geldiğini *net* bir şekilde açıklamalısınız.\\n\\n'"
            ]
          },
          "execution_count": 84,
          "metadata": {},
          "output_type": "execute_result"
        }
      ],
      "source": [
        "from sklearn.metrics import confusion_matrix\n",
        "import seaborn as sns\n",
        "\n",
        "cm=confusion_matrix(y_true,y_pred)\n",
        "#ÖNEMLİ:\n",
        "\n",
        "\"\"\"\n",
        "Eğer bilimsel bir çalışma yapıyorsanız,Grafiklerin ne anlama geldiğini *net* bir şekilde açıklamalısınız.\n",
        "\n",
        "\"\"\""
      ]
    },
    {
      "cell_type": "markdown",
      "metadata": {
        "id": "UBgOQVX9OQjz"
      },
      "source": [
        "# Hata matrisi - Confusion matrix"
      ]
    },
    {
      "cell_type": "code",
      "execution_count": 85,
      "metadata": {
        "id": "9LTrEvG6OQjz"
      },
      "outputs": [
        {
          "data": {
            "text/plain": [
              "Text(45.722222222222214, 0.5, 'Gerçek')"
            ]
          },
          "execution_count": 85,
          "metadata": {},
          "output_type": "execute_result"
        },
        {
          "data": {
            "image/png": "[encoded data removed]",
            "text/plain": [
              "<Figure size 640x480 with 2 Axes>"
            ]
          },
          "metadata": {},
          "output_type": "display_data"
        },
        {
          "data": {
            "image/png": "[encoded data removed]",
            "text/plain": [
              "<Figure size 600x500 with 2 Axes>"
            ]
          },
          "metadata": {},
          "output_type": "display_data"
        },
        {
          "data": {
            "image/png": "[encoded data removed]",
            "text/plain": [
              "<Figure size 600x500 with 2 Axes>"
            ]
          },
          "metadata": {},
          "output_type": "display_data"
        },
        {
          "data": {
            "image/png": "[encoded data removed]",
            "text/plain": [
              "<Figure size 600x500 with 2 Axes>"
            ]
          },
          "metadata": {},
          "output_type": "display_data"
        }
      ],
      "source": [
        "#adım adım confusion matrix'in nasıl daha iyi bir hale getirildiğine bakalım\n",
        "\n",
        "#1.hali\n",
        "sns.heatmap(cm) #ustundeki sayıların bile yazmadığı bir kırmızı harita.\n",
        "\n",
        "#2.hali\n",
        "plt.figure(figsize=(6,5)) #kare şeklinde gözukmesini sağlar.\n",
        "sns.heatmap(cm,annot=True) #annot =bi açıklama veya (gösterge) koymak için kullanılır\n",
        "\n",
        "#3.hali\n",
        "plt.figure(figsize=(6,5)) #kare şeklinde gözukmesini sağlar.\n",
        "hm=sns.heatmap(cm,annot=True,fmt='n') #annot =bi açıklama veya (gösterge) koymak için kullanılır.\n",
        "hm.tick_params(labeltop=True,labelbottom=False,top=True,bottom=False)\n",
        "hm.set_xlabel(\"Model Tahmini\") #X eksenimize bir başlık atıyoruz.bunu bu şekilde bırakırsanız altta gözucektir.\n",
        "hm.xaxis.set_label_position('top')#ustte gosterecektir.\n",
        "hm.set_ylabel(\"Gerçek\")\n",
        "\n",
        "\n",
        "#4.hali (Renkleriyle degistirilmiş hali)\n",
        "\n",
        "plt.figure(figsize=(6,5)) #kare şeklinde gözukmesini sağlar.\n",
        "hm=sns.heatmap(cm,annot=True,fmt='n',cmap=\"winter_r\") #annot =bi açıklama veya (gösterge) koymak için kullanılır. #cmap tablonun rengini belirler.\n",
        "hm.tick_params(labeltop=True,labelbottom=False,top=True,bottom=False)\n",
        "hm.set_xlabel(\"Model Tahmini\") #X eksenimize bir başlık atıyoruz.bunu bu şekilde bırakırsanız altta gözucektir.\n",
        "hm.xaxis.set_label_position('top')#ustte gosterecektir.\n",
        "hm.set_ylabel(\"Gerçek\")\n"
      ]
    },
    {
      "cell_type": "code",
      "execution_count": 89,
      "metadata": {
        "id": "hDipAcF2OQj0"
      },
      "outputs": [
        {
          "data": {
            "text/plain": [
              "<AxesSubplot:title={'center':'ROC Curves'}, xlabel='False Positive Rate', ylabel='True Positive Rate'>"
            ]
          },
          "execution_count": 89,
          "metadata": {},
          "output_type": "execute_result"
        },
        {
          "data": {
            "image/png": "[encoded data removed]",
            "text/plain": [
              "<Figure size 640x480 with 1 Axes>"
            ]
          },
          "metadata": {},
          "output_type": "display_data"
        }
      ],
      "source": [
        "#ROC eğrisi genellikle Binary Sınıflandırma'da kullanılır sci-kit Learn'de. Ancak biz 4 farklı sınıfına sahip olduğumuz için,\n",
        "#bunu farklı bir kutuphaneden yapacağız.\n",
        "# !pip install scikit-plot\n",
        "import scikitplot as spklt\n",
        "\n",
        "spklt.metrics.plot_roc(y_true,y_probas,#burada y_probas değerlerini istiyor burada örneğin.\n",
        "                       plot_macro=False,\n",
        "                       plot_micro=False) #macro ve micro göstergelerinin kaldırılması \n",
        "                       \n",
        "#ROC EĞRİSİ Duzenleştirme. Turkçe ifadeler ekleme.\n",
        "#scikitplot kutuphanesinde matplotlib kutuphanesinin altyapısını kullanmaktadır.\n",
        "\n",
        "\n",
        "                       \n"
      ]
    },
    {
      "cell_type": "code",
      "execution_count": 90,
      "metadata": {
        "id": "eUFJv-02gkOH"
      },
      "outputs": [
        {
          "data": {
            "image/png": "[encoded data removed]",
            "text/plain": [
              "<Figure size 640x480 with 1 Axes>"
            ]
          },
          "metadata": {},
          "output_type": "display_data"
        }
      ],
      "source": [
        "#aradaki farkı görmek için iki tane çizelim.\n",
        "spklt.metrics.plot_roc(y_true,y_probas,#burada y_probas değerlerini istiyor burada örneğin.\n",
        "                       plot_macro=False,\n",
        "                       plot_micro=False) #macro ve micro göstergelerinin kaldırılması \n",
        "plt.title(\"ROC eğrisi\")\n",
        "\n",
        "plt.xlabel(\"FP oranı\")\n",
        "plt.ylabel('TP Oranı')\n",
        "plt.show()"
      ]
    },
    {
      "cell_type": "code",
      "execution_count": null,
      "metadata": {},
      "outputs": [],
      "source": [
        "#It's done."
      ]
    }
  ],
  "metadata": {
    "accelerator": "GPU",
    "colab": {
      "provenance": []
    },
    "gpuClass": "standard",
    "kernelspec": {
      "display_name": "Python 3.9.13 ('base')",
      "language": "python",
      "name": "python3"
    },
    "language_info": {
      "codemirror_mode": {
        "name": "ipython",
        "version": 3
      },
      "file_extension": ".py",
      "mimetype": "text/x-python",
      "name": "python",
      "nbconvert_exporter": "python",
      "pygments_lexer": "ipython3",
      "version": "3.9.13"
    },
    "vscode": {
      "interpreter": {
        "hash": "e26da9777431fcd98778416b583e2cb3f0c4f5515b7897587b203af2bddddd45"
      }
    }
  },
  "nbformat": 4,
  "nbformat_minor": 0
}
